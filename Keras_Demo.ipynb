{
  "nbformat": 4,
  "nbformat_minor": 0,
  "metadata": {
    "colab": {
      "name": "Keras Demo.ipynb",
      "provenance": [],
      "authorship_tag": "ABX9TyOiGrcMPGV0tUiPn5nqkhdl",
      "include_colab_link": true
    },
    "kernelspec": {
      "name": "python3",
      "display_name": "Python 3"
    },
    "language_info": {
      "name": "python"
    }
  },
  "cells": [
    {
      "cell_type": "markdown",
      "metadata": {
        "id": "view-in-github",
        "colab_type": "text"
      },
      "source": [
        "<a href=\"https://colab.research.google.com/github/MrVersatile007/My-Work-on-Keras/blob/main/Keras_Demo.ipynb\" target=\"_parent\"><img src=\"https://colab.research.google.com/assets/colab-badge.svg\" alt=\"Open In Colab\"/></a>"
      ]
    },
    {
      "cell_type": "code",
      "source": [
        "import keras\n",
        "model = keras.Sequential([keras.layers.Dense(units=1,input_shape=[1])])"
      ],
      "metadata": {
        "id": "mmGi6lYYwVn_"
      },
      "execution_count": 2,
      "outputs": []
    },
    {
      "cell_type": "code",
      "source": [
        "model.compile(loss=\"mean_squared_error\", optimizer=\"sgd\")"
      ],
      "metadata": {
        "id": "Ie81gBtuw2_T"
      },
      "execution_count": 3,
      "outputs": []
    },
    {
      "cell_type": "code",
      "source": [
        "import numpy as np\n",
        "x=np.array([-1.0,0.0,1.0,2.0,3.0,4.0], dtype= float)\n",
        "y=np.array([-3.0,-1.0,1.0,3.0,5.0,7.0], dtype= float)"
      ],
      "metadata": {
        "id": "TqGtrUhSx79e"
      },
      "execution_count": 4,
      "outputs": []
    },
    {
      "cell_type": "code",
      "source": [
        "model.fit(x,y,epochs=50)"
      ],
      "metadata": {
        "id": "GAR0urxryqMb",
        "colab": {
          "base_uri": "https://localhost:8080/"
        },
        "outputId": "9829d7b0-8c0b-4553-ad82-88319640e05d"
      },
      "execution_count": 9,
      "outputs": [
        {
          "output_type": "stream",
          "name": "stdout",
          "text": [
            "Epoch 1/50\n",
            "1/1 [==============================] - 0s 7ms/step - loss: 1.0604e-11\n",
            "Epoch 2/50\n",
            "1/1 [==============================] - 0s 8ms/step - loss: 1.0604e-11\n",
            "Epoch 3/50\n",
            "1/1 [==============================] - 0s 7ms/step - loss: 1.0604e-11\n",
            "Epoch 4/50\n",
            "1/1 [==============================] - 0s 5ms/step - loss: 1.0604e-11\n",
            "Epoch 5/50\n",
            "1/1 [==============================] - 0s 7ms/step - loss: 1.0604e-11\n",
            "Epoch 6/50\n",
            "1/1 [==============================] - 0s 6ms/step - loss: 1.0604e-11\n",
            "Epoch 7/50\n",
            "1/1 [==============================] - 0s 6ms/step - loss: 1.0604e-11\n",
            "Epoch 8/50\n",
            "1/1 [==============================] - 0s 7ms/step - loss: 1.0604e-11\n",
            "Epoch 9/50\n",
            "1/1 [==============================] - 0s 7ms/step - loss: 1.0604e-11\n",
            "Epoch 10/50\n",
            "1/1 [==============================] - 0s 5ms/step - loss: 1.0604e-11\n",
            "Epoch 11/50\n",
            "1/1 [==============================] - 0s 5ms/step - loss: 1.0604e-11\n",
            "Epoch 12/50\n",
            "1/1 [==============================] - 0s 9ms/step - loss: 1.0604e-11\n",
            "Epoch 13/50\n",
            "1/1 [==============================] - 0s 5ms/step - loss: 1.0604e-11\n",
            "Epoch 14/50\n",
            "1/1 [==============================] - 0s 6ms/step - loss: 1.0604e-11\n",
            "Epoch 15/50\n",
            "1/1 [==============================] - 0s 7ms/step - loss: 1.0604e-11\n",
            "Epoch 16/50\n",
            "1/1 [==============================] - 0s 9ms/step - loss: 1.0604e-11\n",
            "Epoch 17/50\n",
            "1/1 [==============================] - 0s 21ms/step - loss: 1.0604e-11\n",
            "Epoch 18/50\n",
            "1/1 [==============================] - 0s 10ms/step - loss: 1.0604e-11\n",
            "Epoch 19/50\n",
            "1/1 [==============================] - 0s 8ms/step - loss: 1.0604e-11\n",
            "Epoch 20/50\n",
            "1/1 [==============================] - 0s 5ms/step - loss: 1.0604e-11\n",
            "Epoch 21/50\n",
            "1/1 [==============================] - 0s 6ms/step - loss: 1.0604e-11\n",
            "Epoch 22/50\n",
            "1/1 [==============================] - 0s 6ms/step - loss: 1.0604e-11\n",
            "Epoch 23/50\n",
            "1/1 [==============================] - 0s 5ms/step - loss: 1.0604e-11\n",
            "Epoch 24/50\n",
            "1/1 [==============================] - 0s 6ms/step - loss: 1.0604e-11\n",
            "Epoch 25/50\n",
            "1/1 [==============================] - 0s 6ms/step - loss: 1.0604e-11\n",
            "Epoch 26/50\n",
            "1/1 [==============================] - 0s 7ms/step - loss: 1.0604e-11\n",
            "Epoch 27/50\n",
            "1/1 [==============================] - 0s 7ms/step - loss: 1.0604e-11\n",
            "Epoch 28/50\n",
            "1/1 [==============================] - 0s 5ms/step - loss: 1.0604e-11\n",
            "Epoch 29/50\n",
            "1/1 [==============================] - 0s 7ms/step - loss: 1.0604e-11\n",
            "Epoch 30/50\n",
            "1/1 [==============================] - 0s 7ms/step - loss: 1.0604e-11\n",
            "Epoch 31/50\n",
            "1/1 [==============================] - 0s 8ms/step - loss: 1.0604e-11\n",
            "Epoch 32/50\n",
            "1/1 [==============================] - 0s 5ms/step - loss: 1.0604e-11\n",
            "Epoch 33/50\n",
            "1/1 [==============================] - 0s 8ms/step - loss: 1.0604e-11\n",
            "Epoch 34/50\n",
            "1/1 [==============================] - 0s 5ms/step - loss: 1.0604e-11\n",
            "Epoch 35/50\n",
            "1/1 [==============================] - 0s 8ms/step - loss: 1.0604e-11\n",
            "Epoch 36/50\n",
            "1/1 [==============================] - 0s 5ms/step - loss: 1.0604e-11\n",
            "Epoch 37/50\n",
            "1/1 [==============================] - 0s 11ms/step - loss: 1.0604e-11\n",
            "Epoch 38/50\n",
            "1/1 [==============================] - 0s 10ms/step - loss: 1.0604e-11\n",
            "Epoch 39/50\n",
            "1/1 [==============================] - 0s 8ms/step - loss: 1.0604e-11\n",
            "Epoch 40/50\n",
            "1/1 [==============================] - 0s 9ms/step - loss: 1.0604e-11\n",
            "Epoch 41/50\n",
            "1/1 [==============================] - 0s 12ms/step - loss: 1.0604e-11\n",
            "Epoch 42/50\n",
            "1/1 [==============================] - 0s 19ms/step - loss: 1.0604e-11\n",
            "Epoch 43/50\n",
            "1/1 [==============================] - 0s 15ms/step - loss: 1.0604e-11\n",
            "Epoch 44/50\n",
            "1/1 [==============================] - 0s 16ms/step - loss: 1.0604e-11\n",
            "Epoch 45/50\n",
            "1/1 [==============================] - 0s 12ms/step - loss: 1.0604e-11\n",
            "Epoch 46/50\n",
            "1/1 [==============================] - 0s 6ms/step - loss: 1.0604e-11\n",
            "Epoch 47/50\n",
            "1/1 [==============================] - 0s 7ms/step - loss: 1.0604e-11\n",
            "Epoch 48/50\n",
            "1/1 [==============================] - 0s 6ms/step - loss: 1.0604e-11\n",
            "Epoch 49/50\n",
            "1/1 [==============================] - 0s 6ms/step - loss: 1.0604e-11\n",
            "Epoch 50/50\n",
            "1/1 [==============================] - 0s 7ms/step - loss: 1.0604e-11\n"
          ]
        },
        {
          "output_type": "execute_result",
          "data": {
            "text/plain": [
              "<keras.callbacks.History at 0x7fa2f6f5fb50>"
            ]
          },
          "metadata": {},
          "execution_count": 9
        }
      ]
    },
    {
      "cell_type": "code",
      "source": [
        "print(model.predict([10.0]))"
      ],
      "metadata": {
        "colab": {
          "base_uri": "https://localhost:8080/"
        },
        "id": "0sYpy1KepRVh",
        "outputId": "ad3fab62-c09a-41e3-d5a6-1b5f1383b06b"
      },
      "execution_count": 10,
      "outputs": [
        {
          "output_type": "stream",
          "name": "stdout",
          "text": [
            "[[18.999987]]\n"
          ]
        }
      ]
    },
    {
      "cell_type": "code",
      "source": [
        ""
      ],
      "metadata": {
        "id": "HLsOwUabpbgz"
      },
      "execution_count": null,
      "outputs": []
    }
  ]
}
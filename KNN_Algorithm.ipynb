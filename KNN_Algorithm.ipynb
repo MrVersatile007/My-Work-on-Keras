{
  "nbformat": 4,
  "nbformat_minor": 0,
  "metadata": {
    "colab": {
      "name": "KNN-Algorithm.ipynb",
      "provenance": [],
      "authorship_tag": "ABX9TyMM/o3JPOQYqSWSMUwb752K",
      "include_colab_link": true
    },
    "kernelspec": {
      "name": "python3",
      "display_name": "Python 3"
    },
    "language_info": {
      "name": "python"
    }
  },
  "cells": [
    {
      "cell_type": "markdown",
      "metadata": {
        "id": "view-in-github",
        "colab_type": "text"
      },
      "source": [
        "<a href=\"https://colab.research.google.com/github/MrVersatile007/My-Work-on-ML-algorithms/blob/main/KNN_Algorithm.ipynb\" target=\"_parent\"><img src=\"https://colab.research.google.com/assets/colab-badge.svg\" alt=\"Open In Colab\"/></a>"
      ]
    },
    {
      "cell_type": "code",
      "execution_count": 1,
      "metadata": {
        "id": "SUKd5p_UK2u8"
      },
      "outputs": [],
      "source": [
        "#Here I ude Iris data set for KNN model... \n",
        "#It consists of 150 observations four features and one class label"
      ]
    },
    {
      "cell_type": "code",
      "source": [
        "#1 Handle data : Open data from csv and split into train and test data\n",
        "#2 Similarity : Calculate the distances from two data instances\n",
        "#3 Neighbors : locate K most similar data instances\n",
        "#4 Response : Generate a response from a set of data instances\n",
        "#5 Accuracy : Summarizing the accuracy of predictions\n",
        "#6 Main : Tie it all together in main"
      ],
      "metadata": {
        "id": "1KRgCTWnLRDA"
      },
      "execution_count": 2,
      "outputs": []
    },
    {
      "cell_type": "code",
      "source": [
        ""
      ],
      "metadata": {
        "id": "v-b8553xnPuH"
      },
      "execution_count": null,
      "outputs": []
    }
  ]
}
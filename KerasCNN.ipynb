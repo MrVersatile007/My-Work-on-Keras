{
  "nbformat": 4,
  "nbformat_minor": 0,
  "metadata": {
    "colab": {
      "name": "KerasCNN.ipynb",
      "provenance": [],
      "authorship_tag": "ABX9TyOlskRDeWeuvxbu7G2PPCct",
      "include_colab_link": true
    },
    "kernelspec": {
      "name": "python3",
      "display_name": "Python 3"
    },
    "language_info": {
      "name": "python"
    }
  },
  "cells": [
    {
      "cell_type": "markdown",
      "metadata": {
        "id": "view-in-github",
        "colab_type": "text"
      },
      "source": [
        "<a href=\"https://colab.research.google.com/github/MrVersatile007/My-Work-on-Keras/blob/main/KerasCNN.ipynb\" target=\"_parent\"><img src=\"https://colab.research.google.com/assets/colab-badge.svg\" alt=\"Open In Colab\"/></a>"
      ]
    },
    {
      "cell_type": "code",
      "execution_count": 1,
      "metadata": {
        "id": "ih849x9LkaD1"
      },
      "outputs": [],
      "source": [
        "#there is something call filtering and pooling we do to filter the images before training the deeep neural network\n",
        "#we generally multiply the respective pixel with its corresponding filter definition value \n",
        "#and finally sum them up to highlight features max pooling size is 2X2"
      ]
    },
    {
      "cell_type": "code",
      "source": [
        "#and where does these filters come from? \n",
        "#They are actually learned by itself and how is that? \n",
        "#a number of randomly initialized filters will pass over the image \n",
        "#and result will fed to next layer\n",
        "# this total process is called feature extraction\n"
      ],
      "metadata": {
        "id": "l-K02SkNk9kW"
      },
      "execution_count": 3,
      "outputs": []
    },
    {
      "cell_type": "code",
      "source": [
        "import tensorflow as tf\n",
        "from tensorflow import keras"
      ],
      "metadata": {
        "id": "hSydOYxUmsdR"
      },
      "execution_count": 4,
      "outputs": []
    },
    {
      "cell_type": "code",
      "source": [
        "model = tf.keras.models.Sequential([\n",
        "                                    tf.keras.layers.Convolution2D(64, (3,3), activation='relu', input_shape=(28,28,1)),\n",
        "                                    tf.keras.layers.MaxPool2D(2,2),\n",
        "                                    tf.keras.layers.Flatten(),\n",
        "                                    tf.keras.layers.Dense(128, activation=tf.nn.relu),\n",
        "                                    tf.keras.layers.Dense(10,activation=tf.nn.softmax)])"
      ],
      "metadata": {
        "id": "rwz6OCviqpcY"
      },
      "execution_count": 12,
      "outputs": []
    },
    {
      "cell_type": "code",
      "source": [
        "# inside convolutional 2d network there are\n",
        "#64 are number of filters and multiply each of them across the image , input shape is 28,28,1\n",
        "#then each epoch it will figure out which signal gave best signals and that's how it learns in the same way as it learnt the best parameters in dense layer f0 to f127 for every epoch"
      ],
      "metadata": {
        "id": "bOdR97EvrLHP"
      },
      "execution_count": 10,
      "outputs": []
    },
    {
      "cell_type": "code",
      "source": [
        "#the max pooling is done after convolution step and it is 2x2"
      ],
      "metadata": {
        "id": "222_BM9JuG7Y"
      },
      "execution_count": 11,
      "outputs": []
    },
    {
      "cell_type": "code",
      "source": [
        ""
      ],
      "metadata": {
        "id": "S2r6Jd9Ovck_"
      },
      "execution_count": null,
      "outputs": []
    }
  ]
}